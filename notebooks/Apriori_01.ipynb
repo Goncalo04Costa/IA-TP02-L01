{
  "nbformat": 4,
  "nbformat_minor": 0,
  "metadata": {
    "colab": {
      "provenance": []
    },
    "kernelspec": {
      "name": "python3",
      "display_name": "Python 3"
    },
    "language_info": {
      "name": "python"
    }
  },
  "cells": [
    {
      "cell_type": "markdown",
      "source": [
        "#**APRIORI**\n",
        "\n",
        "\n"
      ],
      "metadata": {
        "id": "9v650hrBSOma"
      }
    },
    {
      "cell_type": "markdown",
      "source": [
        "#**Bussiness goal**\n",
        "O objetivo de negócio é identificar padrões de associação entre as características das propriedades, como número de quartos, casas de banho, localização, e a categoria de preço. Isso visa melhorar a compreensão das relações entre essas variáveis, otimizando a previsão do preço das casas e auxiliando na tomada de decisões para compradores, vendedores e investidores no mercado imobiliário."
      ],
      "metadata": {
        "id": "JhoMo310SS3l"
      }
    },
    {
      "cell_type": "markdown",
      "source": [
        "#**Referencia do dataset utilizado**\n",
        "O dataset utilizado está presente no seguinte link: https://www.kaggle.com/datasets/muhammadbinimran/housing-price-prediction-data"
      ],
      "metadata": {
        "id": "B5twZuj_SW2t"
      }
    },
    {
      "cell_type": "markdown",
      "source": [
        "#**Inicialização**"
      ],
      "metadata": {
        "id": "BWKrXOvqSbAD"
      }
    },
    {
      "cell_type": "markdown",
      "source": [
        "##**Importação de bibliotecas**"
      ],
      "metadata": {
        "id": "vRS4rE7DSgV_"
      }
    },
    {
      "cell_type": "code",
      "execution_count": 1,
      "metadata": {
        "id": "PxLlJPkWRfcM"
      },
      "outputs": [],
      "source": [
        "import pandas as pd\n",
        "import numpy as np\n",
        "import matplotlib.pyplot as plt\n",
        "import seaborn as sns\n",
        "import graphviz\n",
        "from IPython.display import Image\n",
        "\n",
        "from mlxtend.frequent_patterns import apriori, association_rules\n",
        "from sklearn.metrics import accuracy_score, classification_report, confusion_matrix\n",
        "from sklearn.preprocessing import StandardScaler\n",
        "\n",
        "from google.colab import files"
      ]
    },
    {
      "cell_type": "markdown",
      "source": [
        "##**Importação do dataset**"
      ],
      "metadata": {
        "id": "BMuJzQfXSlYT"
      }
    },
    {
      "cell_type": "code",
      "source": [
        "import kagglehub\n",
        "\n",
        "dataset_path = \"muhammadbinimran/housing-price-prediction-data\"\n",
        "!kaggle datasets download {dataset_path} -p /content/ --unzip"
      ],
      "metadata": {
        "colab": {
          "base_uri": "https://localhost:8080/"
        },
        "id": "SD4tYECdSnL-",
        "outputId": "e6a8e447-2e49-4ec3-9fa6-6b2163bf6053"
      },
      "execution_count": 2,
      "outputs": [
        {
          "output_type": "stream",
          "name": "stderr",
          "text": [
            "/usr/local/lib/python3.10/dist-packages/ipykernel/ipkernel.py:283: DeprecationWarning: `should_run_async` will not call `transform_cell` automatically in the future. Please pass the result to `transformed_cell` argument and any exception that happen during thetransform in `preprocessing_exc_tuple` in IPython 7.17 and above.\n",
            "  and should_run_async(code)\n"
          ]
        },
        {
          "output_type": "stream",
          "name": "stdout",
          "text": [
            "Dataset URL: https://www.kaggle.com/datasets/muhammadbinimran/housing-price-prediction-data\n",
            "License(s): other\n",
            "Downloading housing-price-prediction-data.zip to /content\n",
            "  0% 0.00/763k [00:00<?, ?B/s]\n",
            "100% 763k/763k [00:00<00:00, 57.5MB/s]\n"
          ]
        }
      ]
    },
    {
      "cell_type": "markdown",
      "source": [
        "##**Demonstração do conteudo do dataset**"
      ],
      "metadata": {
        "id": "uo60cEd_Sn1U"
      }
    },
    {
      "cell_type": "code",
      "source": [
        "housing_price_file = pd.read_csv('housing_price_dataset.csv')\n",
        "housing_price_data = pd.DataFrame(housing_price_file)\n",
        "\n",
        "housing_price_data.head()"
      ],
      "metadata": {
        "colab": {
          "base_uri": "https://localhost:8080/",
          "height": 261
        },
        "id": "y4q-o3AlSnqM",
        "outputId": "96209a8d-4cd7-4c98-99fd-57890651d309"
      },
      "execution_count": 3,
      "outputs": [
        {
          "output_type": "stream",
          "name": "stderr",
          "text": [
            "/usr/local/lib/python3.10/dist-packages/ipykernel/ipkernel.py:283: DeprecationWarning: `should_run_async` will not call `transform_cell` automatically in the future. Please pass the result to `transformed_cell` argument and any exception that happen during thetransform in `preprocessing_exc_tuple` in IPython 7.17 and above.\n",
            "  and should_run_async(code)\n"
          ]
        },
        {
          "output_type": "execute_result",
          "data": {
            "text/plain": [
              "   SquareFeet  Bedrooms  Bathrooms Neighborhood  YearBuilt          Price\n",
              "0        2126         4          1        Rural       1969  215355.283618\n",
              "1        2459         3          2        Rural       1980  195014.221626\n",
              "2        1860         2          1       Suburb       1970  306891.012076\n",
              "3        2294         2          1        Urban       1996  206786.787153\n",
              "4        2130         5          2       Suburb       2001  272436.239065"
            ],
            "text/html": [
              "\n",
              "  <div id=\"df-964222db-5f9e-4d6e-968b-d465843ad464\" class=\"colab-df-container\">\n",
              "    <div>\n",
              "<style scoped>\n",
              "    .dataframe tbody tr th:only-of-type {\n",
              "        vertical-align: middle;\n",
              "    }\n",
              "\n",
              "    .dataframe tbody tr th {\n",
              "        vertical-align: top;\n",
              "    }\n",
              "\n",
              "    .dataframe thead th {\n",
              "        text-align: right;\n",
              "    }\n",
              "</style>\n",
              "<table border=\"1\" class=\"dataframe\">\n",
              "  <thead>\n",
              "    <tr style=\"text-align: right;\">\n",
              "      <th></th>\n",
              "      <th>SquareFeet</th>\n",
              "      <th>Bedrooms</th>\n",
              "      <th>Bathrooms</th>\n",
              "      <th>Neighborhood</th>\n",
              "      <th>YearBuilt</th>\n",
              "      <th>Price</th>\n",
              "    </tr>\n",
              "  </thead>\n",
              "  <tbody>\n",
              "    <tr>\n",
              "      <th>0</th>\n",
              "      <td>2126</td>\n",
              "      <td>4</td>\n",
              "      <td>1</td>\n",
              "      <td>Rural</td>\n",
              "      <td>1969</td>\n",
              "      <td>215355.283618</td>\n",
              "    </tr>\n",
              "    <tr>\n",
              "      <th>1</th>\n",
              "      <td>2459</td>\n",
              "      <td>3</td>\n",
              "      <td>2</td>\n",
              "      <td>Rural</td>\n",
              "      <td>1980</td>\n",
              "      <td>195014.221626</td>\n",
              "    </tr>\n",
              "    <tr>\n",
              "      <th>2</th>\n",
              "      <td>1860</td>\n",
              "      <td>2</td>\n",
              "      <td>1</td>\n",
              "      <td>Suburb</td>\n",
              "      <td>1970</td>\n",
              "      <td>306891.012076</td>\n",
              "    </tr>\n",
              "    <tr>\n",
              "      <th>3</th>\n",
              "      <td>2294</td>\n",
              "      <td>2</td>\n",
              "      <td>1</td>\n",
              "      <td>Urban</td>\n",
              "      <td>1996</td>\n",
              "      <td>206786.787153</td>\n",
              "    </tr>\n",
              "    <tr>\n",
              "      <th>4</th>\n",
              "      <td>2130</td>\n",
              "      <td>5</td>\n",
              "      <td>2</td>\n",
              "      <td>Suburb</td>\n",
              "      <td>2001</td>\n",
              "      <td>272436.239065</td>\n",
              "    </tr>\n",
              "  </tbody>\n",
              "</table>\n",
              "</div>\n",
              "    <div class=\"colab-df-buttons\">\n",
              "\n",
              "  <div class=\"colab-df-container\">\n",
              "    <button class=\"colab-df-convert\" onclick=\"convertToInteractive('df-964222db-5f9e-4d6e-968b-d465843ad464')\"\n",
              "            title=\"Convert this dataframe to an interactive table.\"\n",
              "            style=\"display:none;\">\n",
              "\n",
              "  <svg xmlns=\"http://www.w3.org/2000/svg\" height=\"24px\" viewBox=\"0 -960 960 960\">\n",
              "    <path d=\"M120-120v-720h720v720H120Zm60-500h600v-160H180v160Zm220 220h160v-160H400v160Zm0 220h160v-160H400v160ZM180-400h160v-160H180v160Zm440 0h160v-160H620v160ZM180-180h160v-160H180v160Zm440 0h160v-160H620v160Z\"/>\n",
              "  </svg>\n",
              "    </button>\n",
              "\n",
              "  <style>\n",
              "    .colab-df-container {\n",
              "      display:flex;\n",
              "      gap: 12px;\n",
              "    }\n",
              "\n",
              "    .colab-df-convert {\n",
              "      background-color: #E8F0FE;\n",
              "      border: none;\n",
              "      border-radius: 50%;\n",
              "      cursor: pointer;\n",
              "      display: none;\n",
              "      fill: #1967D2;\n",
              "      height: 32px;\n",
              "      padding: 0 0 0 0;\n",
              "      width: 32px;\n",
              "    }\n",
              "\n",
              "    .colab-df-convert:hover {\n",
              "      background-color: #E2EBFA;\n",
              "      box-shadow: 0px 1px 2px rgba(60, 64, 67, 0.3), 0px 1px 3px 1px rgba(60, 64, 67, 0.15);\n",
              "      fill: #174EA6;\n",
              "    }\n",
              "\n",
              "    .colab-df-buttons div {\n",
              "      margin-bottom: 4px;\n",
              "    }\n",
              "\n",
              "    [theme=dark] .colab-df-convert {\n",
              "      background-color: #3B4455;\n",
              "      fill: #D2E3FC;\n",
              "    }\n",
              "\n",
              "    [theme=dark] .colab-df-convert:hover {\n",
              "      background-color: #434B5C;\n",
              "      box-shadow: 0px 1px 3px 1px rgba(0, 0, 0, 0.15);\n",
              "      filter: drop-shadow(0px 1px 2px rgba(0, 0, 0, 0.3));\n",
              "      fill: #FFFFFF;\n",
              "    }\n",
              "  </style>\n",
              "\n",
              "    <script>\n",
              "      const buttonEl =\n",
              "        document.querySelector('#df-964222db-5f9e-4d6e-968b-d465843ad464 button.colab-df-convert');\n",
              "      buttonEl.style.display =\n",
              "        google.colab.kernel.accessAllowed ? 'block' : 'none';\n",
              "\n",
              "      async function convertToInteractive(key) {\n",
              "        const element = document.querySelector('#df-964222db-5f9e-4d6e-968b-d465843ad464');\n",
              "        const dataTable =\n",
              "          await google.colab.kernel.invokeFunction('convertToInteractive',\n",
              "                                                    [key], {});\n",
              "        if (!dataTable) return;\n",
              "\n",
              "        const docLinkHtml = 'Like what you see? Visit the ' +\n",
              "          '<a target=\"_blank\" href=https://colab.research.google.com/notebooks/data_table.ipynb>data table notebook</a>'\n",
              "          + ' to learn more about interactive tables.';\n",
              "        element.innerHTML = '';\n",
              "        dataTable['output_type'] = 'display_data';\n",
              "        await google.colab.output.renderOutput(dataTable, element);\n",
              "        const docLink = document.createElement('div');\n",
              "        docLink.innerHTML = docLinkHtml;\n",
              "        element.appendChild(docLink);\n",
              "      }\n",
              "    </script>\n",
              "  </div>\n",
              "\n",
              "\n",
              "<div id=\"df-980b3ebf-5a30-4e36-a501-00aa693a607b\">\n",
              "  <button class=\"colab-df-quickchart\" onclick=\"quickchart('df-980b3ebf-5a30-4e36-a501-00aa693a607b')\"\n",
              "            title=\"Suggest charts\"\n",
              "            style=\"display:none;\">\n",
              "\n",
              "<svg xmlns=\"http://www.w3.org/2000/svg\" height=\"24px\"viewBox=\"0 0 24 24\"\n",
              "     width=\"24px\">\n",
              "    <g>\n",
              "        <path d=\"M19 3H5c-1.1 0-2 .9-2 2v14c0 1.1.9 2 2 2h14c1.1 0 2-.9 2-2V5c0-1.1-.9-2-2-2zM9 17H7v-7h2v7zm4 0h-2V7h2v10zm4 0h-2v-4h2v4z\"/>\n",
              "    </g>\n",
              "</svg>\n",
              "  </button>\n",
              "\n",
              "<style>\n",
              "  .colab-df-quickchart {\n",
              "      --bg-color: #E8F0FE;\n",
              "      --fill-color: #1967D2;\n",
              "      --hover-bg-color: #E2EBFA;\n",
              "      --hover-fill-color: #174EA6;\n",
              "      --disabled-fill-color: #AAA;\n",
              "      --disabled-bg-color: #DDD;\n",
              "  }\n",
              "\n",
              "  [theme=dark] .colab-df-quickchart {\n",
              "      --bg-color: #3B4455;\n",
              "      --fill-color: #D2E3FC;\n",
              "      --hover-bg-color: #434B5C;\n",
              "      --hover-fill-color: #FFFFFF;\n",
              "      --disabled-bg-color: #3B4455;\n",
              "      --disabled-fill-color: #666;\n",
              "  }\n",
              "\n",
              "  .colab-df-quickchart {\n",
              "    background-color: var(--bg-color);\n",
              "    border: none;\n",
              "    border-radius: 50%;\n",
              "    cursor: pointer;\n",
              "    display: none;\n",
              "    fill: var(--fill-color);\n",
              "    height: 32px;\n",
              "    padding: 0;\n",
              "    width: 32px;\n",
              "  }\n",
              "\n",
              "  .colab-df-quickchart:hover {\n",
              "    background-color: var(--hover-bg-color);\n",
              "    box-shadow: 0 1px 2px rgba(60, 64, 67, 0.3), 0 1px 3px 1px rgba(60, 64, 67, 0.15);\n",
              "    fill: var(--button-hover-fill-color);\n",
              "  }\n",
              "\n",
              "  .colab-df-quickchart-complete:disabled,\n",
              "  .colab-df-quickchart-complete:disabled:hover {\n",
              "    background-color: var(--disabled-bg-color);\n",
              "    fill: var(--disabled-fill-color);\n",
              "    box-shadow: none;\n",
              "  }\n",
              "\n",
              "  .colab-df-spinner {\n",
              "    border: 2px solid var(--fill-color);\n",
              "    border-color: transparent;\n",
              "    border-bottom-color: var(--fill-color);\n",
              "    animation:\n",
              "      spin 1s steps(1) infinite;\n",
              "  }\n",
              "\n",
              "  @keyframes spin {\n",
              "    0% {\n",
              "      border-color: transparent;\n",
              "      border-bottom-color: var(--fill-color);\n",
              "      border-left-color: var(--fill-color);\n",
              "    }\n",
              "    20% {\n",
              "      border-color: transparent;\n",
              "      border-left-color: var(--fill-color);\n",
              "      border-top-color: var(--fill-color);\n",
              "    }\n",
              "    30% {\n",
              "      border-color: transparent;\n",
              "      border-left-color: var(--fill-color);\n",
              "      border-top-color: var(--fill-color);\n",
              "      border-right-color: var(--fill-color);\n",
              "    }\n",
              "    40% {\n",
              "      border-color: transparent;\n",
              "      border-right-color: var(--fill-color);\n",
              "      border-top-color: var(--fill-color);\n",
              "    }\n",
              "    60% {\n",
              "      border-color: transparent;\n",
              "      border-right-color: var(--fill-color);\n",
              "    }\n",
              "    80% {\n",
              "      border-color: transparent;\n",
              "      border-right-color: var(--fill-color);\n",
              "      border-bottom-color: var(--fill-color);\n",
              "    }\n",
              "    90% {\n",
              "      border-color: transparent;\n",
              "      border-bottom-color: var(--fill-color);\n",
              "    }\n",
              "  }\n",
              "</style>\n",
              "\n",
              "  <script>\n",
              "    async function quickchart(key) {\n",
              "      const quickchartButtonEl =\n",
              "        document.querySelector('#' + key + ' button');\n",
              "      quickchartButtonEl.disabled = true;  // To prevent multiple clicks.\n",
              "      quickchartButtonEl.classList.add('colab-df-spinner');\n",
              "      try {\n",
              "        const charts = await google.colab.kernel.invokeFunction(\n",
              "            'suggestCharts', [key], {});\n",
              "      } catch (error) {\n",
              "        console.error('Error during call to suggestCharts:', error);\n",
              "      }\n",
              "      quickchartButtonEl.classList.remove('colab-df-spinner');\n",
              "      quickchartButtonEl.classList.add('colab-df-quickchart-complete');\n",
              "    }\n",
              "    (() => {\n",
              "      let quickchartButtonEl =\n",
              "        document.querySelector('#df-980b3ebf-5a30-4e36-a501-00aa693a607b button');\n",
              "      quickchartButtonEl.style.display =\n",
              "        google.colab.kernel.accessAllowed ? 'block' : 'none';\n",
              "    })();\n",
              "  </script>\n",
              "</div>\n",
              "\n",
              "    </div>\n",
              "  </div>\n"
            ],
            "application/vnd.google.colaboratory.intrinsic+json": {
              "type": "dataframe",
              "variable_name": "housing_price_data",
              "summary": "{\n  \"name\": \"housing_price_data\",\n  \"rows\": 50000,\n  \"fields\": [\n    {\n      \"column\": \"SquareFeet\",\n      \"properties\": {\n        \"dtype\": \"number\",\n        \"std\": 575,\n        \"min\": 1000,\n        \"max\": 2999,\n        \"num_unique_values\": 2000,\n        \"samples\": [\n          2578,\n          2250,\n          1585\n        ],\n        \"semantic_type\": \"\",\n        \"description\": \"\"\n      }\n    },\n    {\n      \"column\": \"Bedrooms\",\n      \"properties\": {\n        \"dtype\": \"number\",\n        \"std\": 1,\n        \"min\": 2,\n        \"max\": 5,\n        \"num_unique_values\": 4,\n        \"samples\": [\n          3,\n          5,\n          4\n        ],\n        \"semantic_type\": \"\",\n        \"description\": \"\"\n      }\n    },\n    {\n      \"column\": \"Bathrooms\",\n      \"properties\": {\n        \"dtype\": \"number\",\n        \"std\": 0,\n        \"min\": 1,\n        \"max\": 3,\n        \"num_unique_values\": 3,\n        \"samples\": [\n          1,\n          2,\n          3\n        ],\n        \"semantic_type\": \"\",\n        \"description\": \"\"\n      }\n    },\n    {\n      \"column\": \"Neighborhood\",\n      \"properties\": {\n        \"dtype\": \"category\",\n        \"num_unique_values\": 3,\n        \"samples\": [\n          \"Rural\",\n          \"Suburb\",\n          \"Urban\"\n        ],\n        \"semantic_type\": \"\",\n        \"description\": \"\"\n      }\n    },\n    {\n      \"column\": \"YearBuilt\",\n      \"properties\": {\n        \"dtype\": \"number\",\n        \"std\": 20,\n        \"min\": 1950,\n        \"max\": 2021,\n        \"num_unique_values\": 72,\n        \"samples\": [\n          2001,\n          1967,\n          1962\n        ],\n        \"semantic_type\": \"\",\n        \"description\": \"\"\n      }\n    },\n    {\n      \"column\": \"Price\",\n      \"properties\": {\n        \"dtype\": \"number\",\n        \"std\": 76141.84296604678,\n        \"min\": -36588.16539749279,\n        \"max\": 492195.2599720151,\n        \"num_unique_values\": 50000,\n        \"samples\": [\n          170835.03571295898,\n          126913.4699981214,\n          246611.88309182983\n        ],\n        \"semantic_type\": \"\",\n        \"description\": \"\"\n      }\n    }\n  ]\n}"
            }
          },
          "metadata": {},
          "execution_count": 3
        }
      ]
    },
    {
      "cell_type": "markdown",
      "source": [
        "##**Dataset metadata**"
      ],
      "metadata": {
        "id": "65te8T-QSrWq"
      }
    },
    {
      "cell_type": "markdown",
      "source": [
        "| Coluna        | Tipo de Dado |\n",
        "|---------------|--------------|\n",
        "| SquareFeet    | int          |\n",
        "| Bedrooms      | int          |\n",
        "| Bathrooms     | int          |\n",
        "| Neighborhood  | string       |\n",
        "| YearBuilt     | int          |\n",
        "| Price         | float        |\n"
      ],
      "metadata": {
        "id": "2Qscs2uFSvtz"
      }
    },
    {
      "cell_type": "markdown",
      "source": [
        "#**Data preparation e data selection**\n"
      ],
      "metadata": {
        "id": "UCTsAt4KSwCk"
      }
    },
    {
      "cell_type": "markdown",
      "source": [
        "##**Verificação de nulos**"
      ],
      "metadata": {
        "id": "xiji3VfSS1xA"
      }
    },
    {
      "cell_type": "code",
      "source": [
        "housing_price_data.isna().sum()"
      ],
      "metadata": {
        "colab": {
          "base_uri": "https://localhost:8080/",
          "height": 327
        },
        "id": "HQpS-tGvSrpU",
        "outputId": "741a6af6-abd1-41b2-f44e-ef264efaf89c"
      },
      "execution_count": 4,
      "outputs": [
        {
          "output_type": "stream",
          "name": "stderr",
          "text": [
            "/usr/local/lib/python3.10/dist-packages/ipykernel/ipkernel.py:283: DeprecationWarning: `should_run_async` will not call `transform_cell` automatically in the future. Please pass the result to `transformed_cell` argument and any exception that happen during thetransform in `preprocessing_exc_tuple` in IPython 7.17 and above.\n",
            "  and should_run_async(code)\n"
          ]
        },
        {
          "output_type": "execute_result",
          "data": {
            "text/plain": [
              "SquareFeet      0\n",
              "Bedrooms        0\n",
              "Bathrooms       0\n",
              "Neighborhood    0\n",
              "YearBuilt       0\n",
              "Price           0\n",
              "dtype: int64"
            ],
            "text/html": [
              "<div>\n",
              "<style scoped>\n",
              "    .dataframe tbody tr th:only-of-type {\n",
              "        vertical-align: middle;\n",
              "    }\n",
              "\n",
              "    .dataframe tbody tr th {\n",
              "        vertical-align: top;\n",
              "    }\n",
              "\n",
              "    .dataframe thead th {\n",
              "        text-align: right;\n",
              "    }\n",
              "</style>\n",
              "<table border=\"1\" class=\"dataframe\">\n",
              "  <thead>\n",
              "    <tr style=\"text-align: right;\">\n",
              "      <th></th>\n",
              "      <th>0</th>\n",
              "    </tr>\n",
              "  </thead>\n",
              "  <tbody>\n",
              "    <tr>\n",
              "      <th>SquareFeet</th>\n",
              "      <td>0</td>\n",
              "    </tr>\n",
              "    <tr>\n",
              "      <th>Bedrooms</th>\n",
              "      <td>0</td>\n",
              "    </tr>\n",
              "    <tr>\n",
              "      <th>Bathrooms</th>\n",
              "      <td>0</td>\n",
              "    </tr>\n",
              "    <tr>\n",
              "      <th>Neighborhood</th>\n",
              "      <td>0</td>\n",
              "    </tr>\n",
              "    <tr>\n",
              "      <th>YearBuilt</th>\n",
              "      <td>0</td>\n",
              "    </tr>\n",
              "    <tr>\n",
              "      <th>Price</th>\n",
              "      <td>0</td>\n",
              "    </tr>\n",
              "  </tbody>\n",
              "</table>\n",
              "</div><br><label><b>dtype:</b> int64</label>"
            ]
          },
          "metadata": {},
          "execution_count": 4
        }
      ]
    },
    {
      "cell_type": "markdown",
      "source": [
        "Não existe valores nulos"
      ],
      "metadata": {
        "id": "zzhsGynWSr2m"
      }
    },
    {
      "cell_type": "markdown",
      "source": [
        "##**Verificação de duplicatas**"
      ],
      "metadata": {
        "id": "wwdOqYYQS3v8"
      }
    },
    {
      "cell_type": "code",
      "source": [
        "housing_price_data.duplicated().sum()"
      ],
      "metadata": {
        "colab": {
          "base_uri": "https://localhost:8080/"
        },
        "id": "mPYyV-JQS3g9",
        "outputId": "407c60e9-1e8f-4dda-9939-712c3692d407"
      },
      "execution_count": 4,
      "outputs": [
        {
          "output_type": "stream",
          "name": "stderr",
          "text": [
            "/usr/local/lib/python3.10/dist-packages/ipykernel/ipkernel.py:283: DeprecationWarning: `should_run_async` will not call `transform_cell` automatically in the future. Please pass the result to `transformed_cell` argument and any exception that happen during thetransform in `preprocessing_exc_tuple` in IPython 7.17 and above.\n",
            "  and should_run_async(code)\n"
          ]
        }
      ]
    },
    {
      "cell_type": "markdown",
      "source": [
        "Não existe valores duplicados"
      ],
      "metadata": {
        "id": "ZP8aEqgPS4FP"
      }
    },
    {
      "cell_type": "markdown",
      "source": [
        "##**Verificação dos valores**"
      ],
      "metadata": {
        "id": "G0qBnk9WTDO-"
      }
    },
    {
      "cell_type": "markdown",
      "source": [
        "Precisamos de verificar se existem valores que não fazem sentido no nosso contexto. Como por exemplo, a existencia de valores negativos."
      ],
      "metadata": {
        "id": "zyfEmd5tTFmX"
      }
    },
    {
      "cell_type": "code",
      "source": [
        "numeric_columns = housing_price_data.select_dtypes(include=['number'])\n",
        "negative_values = (numeric_columns < 0).sum()\n",
        "print(negative_values)"
      ],
      "metadata": {
        "colab": {
          "base_uri": "https://localhost:8080/"
        },
        "id": "dbp_1NR4TFRT",
        "outputId": "d53c2053-b160-4d95-8576-6a1e7a2ce2ec"
      },
      "execution_count": 5,
      "outputs": [
        {
          "output_type": "stream",
          "name": "stdout",
          "text": [
            "SquareFeet     0\n",
            "Bedrooms       0\n",
            "Bathrooms      0\n",
            "YearBuilt      0\n",
            "Price         22\n",
            "dtype: int64\n"
          ]
        },
        {
          "output_type": "stream",
          "name": "stderr",
          "text": [
            "/usr/local/lib/python3.10/dist-packages/ipykernel/ipkernel.py:283: DeprecationWarning: `should_run_async` will not call `transform_cell` automatically in the future. Please pass the result to `transformed_cell` argument and any exception that happen during thetransform in `preprocessing_exc_tuple` in IPython 7.17 and above.\n",
            "  and should_run_async(code)\n"
          ]
        }
      ]
    },
    {
      "cell_type": "markdown",
      "source": [
        "Como existe preços negativos, temos de os tirar, pois nao faz sentido uma casa com valor negativo."
      ],
      "metadata": {
        "id": "r250c_akTKS3"
      }
    },
    {
      "cell_type": "code",
      "source": [
        "print(housing_price_data[housing_price_data['Price'] < 0].tail())\n",
        "housing_price_data = housing_price_data[housing_price_data['Price'] >= 0].copy()\n",
        "print(\"\\nNegativos retirados...\\n\")\n",
        "print(housing_price_data[housing_price_data['Price'] < 0].sum())"
      ],
      "metadata": {
        "colab": {
          "base_uri": "https://localhost:8080/"
        },
        "id": "9XW9EteaSsPK",
        "outputId": "24a6c974-5684-44e3-dab6-736b5528b49c"
      },
      "execution_count": 6,
      "outputs": [
        {
          "output_type": "stream",
          "name": "stdout",
          "text": [
            "       SquareFeet  Bedrooms  Bathrooms Neighborhood  YearBuilt         Price\n",
            "29827        1173         5          2        Rural       1988   -847.895073\n",
            "30171        1066         3          1        Rural       1964   -602.209099\n",
            "33666        1013         5          2        Urban       1960 -36588.165397\n",
            "35553        1374         4          3        Urban       1996  -4771.570194\n",
            "36929        1078         5          1       Suburb       2015  -6159.039213\n",
            "\n",
            "Negativos retirados...\n",
            "\n",
            "SquareFeet        0\n",
            "Bedrooms          0\n",
            "Bathrooms         0\n",
            "Neighborhood      0\n",
            "YearBuilt         0\n",
            "Price           0.0\n",
            "dtype: object\n"
          ]
        },
        {
          "output_type": "stream",
          "name": "stderr",
          "text": [
            "/usr/local/lib/python3.10/dist-packages/ipykernel/ipkernel.py:283: DeprecationWarning: `should_run_async` will not call `transform_cell` automatically in the future. Please pass the result to `transformed_cell` argument and any exception that happen during thetransform in `preprocessing_exc_tuple` in IPython 7.17 and above.\n",
            "  and should_run_async(code)\n"
          ]
        }
      ]
    },
    {
      "cell_type": "markdown",
      "source": [
        "##**Criação das categorias**"
      ],
      "metadata": {
        "id": "2HJViEvjTNn8"
      }
    },
    {
      "cell_type": "markdown",
      "source": [
        "Para a classificação das casas, foi seleciona o uso de 3 classes perante o preço. Classe **Baixa**, abaixo ou igual a 60000, classe **Média**, entre 60000 e 400000, e classe **Alta**, acima de 400000."
      ],
      "metadata": {
        "id": "TQqpQRjKTQZY"
      }
    },
    {
      "cell_type": "code",
      "source": [
        "#criar categorias de preço\n",
        "housing_price_data.loc[housing_price_data['Price'] <= 60000, 'PriceCategory'] = 'Baixo'\n",
        "housing_price_data.loc[(housing_price_data['Price'] > 60000) & (housing_price_data['Price'] <= 400000), 'PriceCategory'] = 'Médio'\n",
        "housing_price_data.loc[housing_price_data['Price'] > 400000, 'PriceCategory'] = 'Alto'"
      ],
      "metadata": {
        "colab": {
          "base_uri": "https://localhost:8080/"
        },
        "id": "BN7mZFgLTQD7",
        "outputId": "f46e2db6-f529-4550-cff8-250dfaab2b48"
      },
      "execution_count": 7,
      "outputs": [
        {
          "output_type": "stream",
          "name": "stderr",
          "text": [
            "/usr/local/lib/python3.10/dist-packages/ipykernel/ipkernel.py:283: DeprecationWarning: `should_run_async` will not call `transform_cell` automatically in the future. Please pass the result to `transformed_cell` argument and any exception that happen during thetransform in `preprocessing_exc_tuple` in IPython 7.17 and above.\n",
            "  and should_run_async(code)\n"
          ]
        }
      ]
    },
    {
      "cell_type": "markdown",
      "source": [
        "#**EDA Visualização**"
      ],
      "metadata": {
        "id": "D9eQrxrYTTWt"
      }
    },
    {
      "cell_type": "markdown",
      "source": [
        "##**Matriz de correlação**\n",
        "A matriz de correlação é uma ferramenta estatística que mede a relação entre diferentes variáveis. Ela exibe valores entre -1 e 1, onde 1 significa uma correlação positiva perfeita, -1 uma correlação negativa perfeita e 0 indica nenhuma correlação. Essa matriz é útil para entender como as variáveis estão interligadas, ajudando a identificar padrões e a selecionar as variáveis mais relevantes."
      ],
      "metadata": {
        "id": "aQd5vapxTVvK"
      }
    },
    {
      "cell_type": "code",
      "source": [
        "plt.figure(figsize=(11, 8))\n",
        "\n",
        "housing_price_data =  pd.get_dummies(housing_price_data, columns=['Neighborhood'])\n",
        "housing_price_correlation = housing_price_data.drop(columns=['PriceCategory'])\n",
        "\n",
        "sns.heatmap(housing_price_correlation.corr(), annot=True, cmap='coolwarm')\n",
        "plt.title('Correlation Matrix')\n",
        "plt.show()"
      ],
      "metadata": {
        "colab": {
          "base_uri": "https://localhost:8080/",
          "height": 894
        },
        "id": "4p_DUi13TTI0",
        "outputId": "9bafc664-887f-41f3-c525-a2f9f9ff4145"
      },
      "execution_count": 8,
      "outputs": [
        {
          "output_type": "stream",
          "name": "stderr",
          "text": [
            "/usr/local/lib/python3.10/dist-packages/ipykernel/ipkernel.py:283: DeprecationWarning: `should_run_async` will not call `transform_cell` automatically in the future. Please pass the result to `transformed_cell` argument and any exception that happen during thetransform in `preprocessing_exc_tuple` in IPython 7.17 and above.\n",
            "  and should_run_async(code)\n"
          ]
        },
        {
          "output_type": "display_data",
          "data": {
            "text/plain": [
              "<Figure size 1100x800 with 2 Axes>"
            ],
            "image/png": "[encoded data removed]"
          },
          "metadata": {}
        }
      ]
    },
    {
      "cell_type": "markdown",
      "source": [
        "Com esta matriz, podemos ver que perante o **Price**, a *feature* utilizada para classe, o **Squarefeet** tem relação forte e os restantes tem relação muito fraca."
      ],
      "metadata": {
        "id": "_ScSyAgQTZQ3"
      }
    },
    {
      "cell_type": "markdown",
      "source": [
        "##**Diagrama de caixa**"
      ],
      "metadata": {
        "id": "64HGn5_RTa6x"
      }
    },
    {
      "cell_type": "code",
      "source": [
        "housing_price_data.plot(kind='box', subplots=True, layout=(1, 6), sharex=False, sharey=False, figsize=(18, 6))\n",
        "plt.subplots_adjust(wspace=0.5)\n",
        "plt.show()"
      ],
      "metadata": {
        "colab": {
          "base_uri": "https://localhost:8080/",
          "height": 577
        },
        "id": "kaLxoixbTdBN",
        "outputId": "f186bba8-efd2-44e7-e6fb-45897e11222a"
      },
      "execution_count": 9,
      "outputs": [
        {
          "output_type": "stream",
          "name": "stderr",
          "text": [
            "/usr/local/lib/python3.10/dist-packages/ipykernel/ipkernel.py:283: DeprecationWarning: `should_run_async` will not call `transform_cell` automatically in the future. Please pass the result to `transformed_cell` argument and any exception that happen during thetransform in `preprocessing_exc_tuple` in IPython 7.17 and above.\n",
            "  and should_run_async(code)\n"
          ]
        },
        {
          "output_type": "display_data",
          "data": {
            "text/plain": [
              "<Figure size 1800x600 with 6 Axes>"
            ],
            "image/png": "[encoded data removed]"
          },
          "metadata": {}
        }
      ]
    },
    {
      "cell_type": "markdown",
      "source": [
        "Os diagramas de caixa mostram que a maioria das casas possui entre 1500 e 2500 pés quadrados, com uma mediana em torno de 2000. O número de quartos geralmente varia de 3 a 4, e a maior parte das propriedades tem 2 banheiros. As casas foram construídas principalmente entre 1970 e 2000, com uma mediana em 1985. O preço das casas apresenta uma distribuição assimétrica, com alguns *outliers* elevados, mas a maior concentração de preços está entre 175.000 e 275.000 unidades monetárias."
      ],
      "metadata": {
        "id": "hWUlGgXeTbxk"
      }
    },
    {
      "cell_type": "markdown",
      "source": [
        "##**Remoção do Price**"
      ],
      "metadata": {
        "id": "EmUJf9yvTihs"
      }
    },
    {
      "cell_type": "markdown",
      "source": [
        "Removemos o **Price** dos dados."
      ],
      "metadata": {
        "id": "VgC2B48yToGb"
      }
    },
    {
      "cell_type": "code",
      "source": [
        "if 'Price' in housing_price_data.columns:\n",
        "    housing_price_data = housing_price_data.drop(columns=['Price'])"
      ],
      "metadata": {
        "colab": {
          "base_uri": "https://localhost:8080/"
        },
        "id": "YKMbBR6KTto8",
        "outputId": "d366fcaa-2af6-4226-9334-e2652f5e3158"
      },
      "execution_count": 10,
      "outputs": [
        {
          "output_type": "stream",
          "name": "stderr",
          "text": [
            "/usr/local/lib/python3.10/dist-packages/ipykernel/ipkernel.py:283: DeprecationWarning: `should_run_async` will not call `transform_cell` automatically in the future. Please pass the result to `transformed_cell` argument and any exception that happen during thetransform in `preprocessing_exc_tuple` in IPython 7.17 and above.\n",
            "  and should_run_async(code)\n"
          ]
        }
      ]
    },
    {
      "cell_type": "markdown",
      "source": [
        "##**Peso das classes**"
      ],
      "metadata": {
        "id": "B34EDFyDTv6C"
      }
    },
    {
      "cell_type": "code",
      "source": [
        "print(housing_price_data['PriceCategory'].value_counts())"
      ],
      "metadata": {
        "colab": {
          "base_uri": "https://localhost:8080/"
        },
        "id": "lKs9yzqOTyRr",
        "outputId": "4dc059b7-dd3c-4176-c5d6-dee0f22f6491"
      },
      "execution_count": 11,
      "outputs": [
        {
          "output_type": "stream",
          "name": "stdout",
          "text": [
            "PriceCategory\n",
            "Médio    49105\n",
            "Baixo      534\n",
            "Alto       339\n",
            "Name: count, dtype: int64\n"
          ]
        },
        {
          "output_type": "stream",
          "name": "stderr",
          "text": [
            "/usr/local/lib/python3.10/dist-packages/ipykernel/ipkernel.py:283: DeprecationWarning: `should_run_async` will not call `transform_cell` automatically in the future. Please pass the result to `transformed_cell` argument and any exception that happen during thetransform in `preprocessing_exc_tuple` in IPython 7.17 and above.\n",
            "  and should_run_async(code)\n"
          ]
        }
      ]
    },
    {
      "cell_type": "markdown",
      "source": [
        "A classe **Média** tem um número maior que os outros, o que gera um desbalanceamento entre classes, o que poderá levar aos modelos classificarem mais vezes **Médio** do que deviam."
      ],
      "metadata": {
        "id": "OChQNAbvTzxg"
      }
    },
    {
      "cell_type": "code",
      "source": [
        "\n",
        "medium_class = housing_price_data[housing_price_data['PriceCategory'] == 'Médio']\n",
        "other_classes = housing_price_data[housing_price_data['PriceCategory'] != 'Médio']\n",
        "\n",
        "medium_class_reduced = medium_class.sample(frac=0.01, random_state=27)\n",
        "\n",
        "housing_price_data = pd.concat([medium_class_reduced, other_classes])\n",
        "\n",
        "housing_price_data = housing_price_data.sample(frac=1, random_state=27).reset_index(drop=True)\n",
        "\n",
        "print(housing_price_data['PriceCategory'].value_counts())"
      ],
      "metadata": {
        "colab": {
          "base_uri": "https://localhost:8080/"
        },
        "id": "EltuMUdAT1Wx",
        "outputId": "b8a2ee8c-3112-45af-9023-b44d4646f7c0"
      },
      "execution_count": 12,
      "outputs": [
        {
          "output_type": "stream",
          "name": "stdout",
          "text": [
            "PriceCategory\n",
            "Baixo    534\n",
            "Médio    491\n",
            "Alto     339\n",
            "Name: count, dtype: int64\n"
          ]
        },
        {
          "output_type": "stream",
          "name": "stderr",
          "text": [
            "/usr/local/lib/python3.10/dist-packages/ipykernel/ipkernel.py:283: DeprecationWarning: `should_run_async` will not call `transform_cell` automatically in the future. Please pass the result to `transformed_cell` argument and any exception that happen during thetransform in `preprocessing_exc_tuple` in IPython 7.17 and above.\n",
            "  and should_run_async(code)\n"
          ]
        }
      ]
    },
    {
      "cell_type": "markdown",
      "source": [
        "Agora as classes estão equilibradas."
      ],
      "metadata": {
        "id": "kyNOy4_yT3zV"
      }
    },
    {
      "cell_type": "markdown",
      "source": [
        "##**Visualização 2D dos dados**"
      ],
      "metadata": {
        "id": "gH-H1Jh2T7gW"
      }
    },
    {
      "cell_type": "code",
      "source": [
        "#sns.pairplot(housing_price_data, hue='PriceCategory')\n",
        "#plt.show()"
      ],
      "metadata": {
        "colab": {
          "base_uri": "https://localhost:8080/"
        },
        "id": "UdK-8YYNT9op",
        "outputId": "52ca60fc-98d9-47c1-cbd9-0b38acfa2804"
      },
      "execution_count": 13,
      "outputs": [
        {
          "output_type": "stream",
          "name": "stderr",
          "text": [
            "/usr/local/lib/python3.10/dist-packages/ipykernel/ipkernel.py:283: DeprecationWarning: `should_run_async` will not call `transform_cell` automatically in the future. Please pass the result to `transformed_cell` argument and any exception that happen during thetransform in `preprocessing_exc_tuple` in IPython 7.17 and above.\n",
            "  and should_run_async(code)\n"
          ]
        }
      ]
    },
    {
      "cell_type": "markdown",
      "source": [
        "#**Implementação**"
      ],
      "metadata": {
        "id": "YI1enM40UPN4"
      }
    },
    {
      "cell_type": "markdown",
      "source": [
        "##**Agrupamento dos dados**"
      ],
      "metadata": {
        "id": "Ns0nox9hUWXy"
      }
    },
    {
      "cell_type": "markdown",
      "source": [
        "Nesta etapa, realizamos o agrupamento dos dados com base nas colunas 'Bedrooms', 'Bathrooms' e 'PriceCategory', além das colunas de bairro ('Neighborhood_Rural', 'Neighborhood_Suburb', 'Neighborhood_Urban'). O objetivo desse agrupamento é organizar as propriedades em grupos distintos, permitindo analisar como características como o número de quartos, banheiros e a categoria de preço estão distribuídas entre as diferentes regiões e bairros."
      ],
      "metadata": {
        "id": "2h9Ho52KUYhs"
      }
    },
    {
      "cell_type": "code",
      "source": [
        "# Primeiro, agrupe os dados por 'Bedrooms', 'Bathrooms', 'PriceCategory' e as colunas de bairro\n",
        "ds_grouped = housing_price_data.groupby(\n",
        "    ['Bedrooms', 'Bathrooms', 'PriceCategory'], as_index=False\n",
        ").agg({'SquareFeet': 'count'})  # Ou use qualquer coluna numérica, como 'SquareFeet'\n",
        "\n",
        "# Verifique o número de valores únicos para as colunas relevantes\n",
        "print(\"Bedrooms:  \", housing_price_data['Bedrooms'].nunique())\n",
        "print(\"Bathrooms:  \", housing_price_data['Bathrooms'].nunique())\n",
        "print(\"PriceCategory: \", housing_price_data['PriceCategory'].nunique())\n",
        "print(\"Neighborhood columns: \", housing_price_data[['Neighborhood_Rural', 'Neighborhood_Suburb', 'Neighborhood_Urban']].nunique())"
      ],
      "metadata": {
        "colab": {
          "base_uri": "https://localhost:8080/"
        },
        "id": "CU4C2rURUV3T",
        "outputId": "cc2c7385-c824-423e-d556-0551a5f7c86b"
      },
      "execution_count": 14,
      "outputs": [
        {
          "output_type": "stream",
          "name": "stderr",
          "text": [
            "/usr/local/lib/python3.10/dist-packages/ipykernel/ipkernel.py:283: DeprecationWarning: `should_run_async` will not call `transform_cell` automatically in the future. Please pass the result to `transformed_cell` argument and any exception that happen during thetransform in `preprocessing_exc_tuple` in IPython 7.17 and above.\n",
            "  and should_run_async(code)\n"
          ]
        },
        {
          "output_type": "stream",
          "name": "stdout",
          "text": [
            "Bedrooms:   4\n",
            "Bathrooms:   3\n",
            "PriceCategory:  3\n",
            "Neighborhood columns:  Neighborhood_Rural     2\n",
            "Neighborhood_Suburb    2\n",
            "Neighborhood_Urban     2\n",
            "dtype: int64\n"
          ]
        }
      ]
    },
    {
      "cell_type": "markdown",
      "source": [
        "##**Pivot table**"
      ],
      "metadata": {
        "id": "xqKXKl0XUcF_"
      }
    },
    {
      "cell_type": "markdown",
      "source": [
        "Criamos uma tabela dinâmica (pivot_table) para reorganizar os dados, agrupando por 'Bedrooms' e 'Bathrooms', e classificando por 'PriceCategory'. Usamos a soma de 'SquareFeet' para representar o número de ocorrências, preenchendo valores ausentes com zero. Depois, adicionamos as colunas de bairro ('Neighborhood_Rural', 'Neighborhood_Suburb', 'Neighborhood_Urban') à tabela dinâmica, combinando as informações em um formato mais completo para análise."
      ],
      "metadata": {
        "id": "elRGx_GcUd9T"
      }
    },
    {
      "cell_type": "code",
      "source": [
        "pivot_table = pd.pivot_table(\n",
        "    ds_grouped,\n",
        "    index=['Bedrooms', 'Bathrooms'],  # Combinações de número de quartos e banheiros\n",
        "    columns=['PriceCategory'],  # Categoria de preço\n",
        "    values='SquareFeet',  # Ou qualquer coluna numérica para representar a quantidade\n",
        "    aggfunc='sum',  # Soma das ocorrências\n",
        "    fill_value=0  # Preenche com 0 onde não há ocorrências\n",
        ")\n",
        "\n",
        "pivot_table = pivot_table.reset_index()\n",
        "pivot_table = pd.concat([pivot_table, housing_price_data[['Neighborhood_Rural', 'Neighborhood_Suburb', 'Neighborhood_Urban']].iloc[ds_grouped.index].reset_index(drop=True)], axis=1) # adição dos neighborhood\n",
        "\n",
        "print(pivot_table.head())"
      ],
      "metadata": {
        "colab": {
          "base_uri": "https://localhost:8080/"
        },
        "id": "9ClVxukZUfRH",
        "outputId": "60164dd3-e886-44ba-c44a-51057e8ada66"
      },
      "execution_count": 15,
      "outputs": [
        {
          "output_type": "stream",
          "name": "stderr",
          "text": [
            "/usr/local/lib/python3.10/dist-packages/ipykernel/ipkernel.py:283: DeprecationWarning: `should_run_async` will not call `transform_cell` automatically in the future. Please pass the result to `transformed_cell` argument and any exception that happen during thetransform in `preprocessing_exc_tuple` in IPython 7.17 and above.\n",
            "  and should_run_async(code)\n"
          ]
        },
        {
          "output_type": "stream",
          "name": "stdout",
          "text": [
            "   Bedrooms  Bathrooms  Alto  Baixo  Médio  Neighborhood_Rural  \\\n",
            "0       2.0        1.0  19.0   68.0   36.0               False   \n",
            "1       2.0        2.0  23.0   58.0   39.0                True   \n",
            "2       2.0        3.0  28.0   56.0   39.0               False   \n",
            "3       3.0        1.0  23.0   51.0   49.0               False   \n",
            "4       3.0        2.0  32.0   39.0   41.0                True   \n",
            "\n",
            "   Neighborhood_Suburb  Neighborhood_Urban  \n",
            "0                 True               False  \n",
            "1                False               False  \n",
            "2                False                True  \n",
            "3                 True               False  \n",
            "4                False               False  \n"
          ]
        }
      ]
    },
    {
      "cell_type": "markdown",
      "source": [
        "##**Binary pivot table**"
      ],
      "metadata": {
        "id": "oC1a6emhUhKl"
      }
    },
    {
      "cell_type": "markdown",
      "source": [
        "Nesta etapa, criamos uma cópia da pivot_table e aplicamos uma transformação para binarizar os valores. Todos os valores maiores que zero foram convertidos para 1, enquanto os valores zero foram convertidos para 0. Isso cria uma tabela binária que indica a presença (1) ou ausência (0) de determinados valores nas combinações de 'Bedrooms', 'Bathrooms' e 'PriceCategory', facilitando análises posteriores como algoritmos de aprendizado de máquina."
      ],
      "metadata": {
        "id": "L8aUdfghUikB"
      }
    },
    {
      "cell_type": "code",
      "source": [
        "pivot_table_bin = pivot_table.copy()\n",
        "pivot_table_bin = (pivot_table_bin > 0).astype(int)\n",
        "\n",
        "# Exibindo a tabela binarizada\n",
        "print(pivot_table_bin.head())"
      ],
      "metadata": {
        "colab": {
          "base_uri": "https://localhost:8080/"
        },
        "id": "WMkIohbKUqrd",
        "outputId": "727450bf-5184-4861-d88c-43479fda3dc4"
      },
      "execution_count": 16,
      "outputs": [
        {
          "output_type": "stream",
          "name": "stdout",
          "text": [
            "   Bedrooms  Bathrooms  Alto  Baixo  Médio  Neighborhood_Rural  \\\n",
            "0         1          1     1      1      1                   0   \n",
            "1         1          1     1      1      1                   1   \n",
            "2         1          1     1      1      1                   0   \n",
            "3         1          1     1      1      1                   0   \n",
            "4         1          1     1      1      1                   1   \n",
            "\n",
            "   Neighborhood_Suburb  Neighborhood_Urban  \n",
            "0                    1                   0  \n",
            "1                    0                   0  \n",
            "2                    0                   1  \n",
            "3                    1                   0  \n",
            "4                    0                   0  \n"
          ]
        },
        {
          "output_type": "stream",
          "name": "stderr",
          "text": [
            "/usr/local/lib/python3.10/dist-packages/ipykernel/ipkernel.py:283: DeprecationWarning: `should_run_async` will not call `transform_cell` automatically in the future. Please pass the result to `transformed_cell` argument and any exception that happen during thetransform in `preprocessing_exc_tuple` in IPython 7.17 and above.\n",
            "  and should_run_async(code)\n"
          ]
        }
      ]
    },
    {
      "cell_type": "markdown",
      "source": [
        "##**Learning Rules (Association Rule Learning)**\n"
      ],
      "metadata": {
        "id": "ct0Bl-R6UomL"
      }
    },
    {
      "cell_type": "markdown",
      "source": [
        "Aplicamos o algoritmo Apriori para encontrar as combinações de itens mais frequentes na tabela binarizada (pivot_table_bin). Definimos um suporte mínimo de 10% (min_support=0.1) para garantir que apenas as combinações mais frequentes sejam consideradas. Após identificar os conjuntos de itens frequentes, usamos o association_rules para gerar regras de associação, utilizando a métrica de lift e um limiar mínimo de 1.0 para a força das regras. Essas regras indicam quais combinações de características (como número de quartos, banheiros e categoria de preço) ocorrem frequentemente juntas, o que pode fornecer insights valiosos para análise e previsão."
      ],
      "metadata": {
        "id": "y4pFGu6HUsd3"
      }
    },
    {
      "cell_type": "code",
      "source": [
        "#Apriori para encontrar as combinações frequentes\n",
        "frequent_itemsets = apriori(pivot_table_bin, min_support=0.1, use_colnames=True)\n",
        "\n",
        "# Gerar regras de associação\n",
        "rules = association_rules(frequent_itemsets, metric=\"lift\", min_threshold=1.0, num_itemsets = len(frequent_itemsets))\n",
        "\n",
        "# Exibir as regras geradas\n",
        "print(rules)"
      ],
      "metadata": {
        "colab": {
          "base_uri": "https://localhost:8080/"
        },
        "id": "d3kNUdyBUv5U",
        "outputId": "fbaaa820-06f1-442a-bdef-c1749e0f3b37"
      },
      "execution_count": 17,
      "outputs": [
        {
          "output_type": "stream",
          "name": "stderr",
          "text": [
            "/usr/local/lib/python3.10/dist-packages/ipykernel/ipkernel.py:283: DeprecationWarning: `should_run_async` will not call `transform_cell` automatically in the future. Please pass the result to `transformed_cell` argument and any exception that happen during thetransform in `preprocessing_exc_tuple` in IPython 7.17 and above.\n",
            "  and should_run_async(code)\n",
            "/usr/local/lib/python3.10/dist-packages/mlxtend/frequent_patterns/fpcommon.py:161: DeprecationWarning: DataFrames with non-bool types result in worse computationalperformance and their support might be discontinued in the future.Please use a DataFrame with bool type\n",
            "  warnings.warn(\n"
          ]
        },
        {
          "output_type": "stream",
          "name": "stdout",
          "text": [
            "     antecedents                                        consequents  \\\n",
            "0    (Bathrooms)                                         (Bedrooms)   \n",
            "1     (Bedrooms)                                        (Bathrooms)   \n",
            "2     (Bedrooms)                                             (Alto)   \n",
            "3         (Alto)                                         (Bedrooms)   \n",
            "4     (Bedrooms)                                            (Baixo)   \n",
            "..           ...                                                ...   \n",
            "957  (Bathrooms)  (Baixo, Alto, Médio, Bedrooms, Neighborhood_Su...   \n",
            "958      (Baixo)  (Bathrooms, Alto, Médio, Bedrooms, Neighborhoo...   \n",
            "959       (Alto)  (Bathrooms, Baixo, Médio, Bedrooms, Neighborho...   \n",
            "960      (Médio)  (Bathrooms, Baixo, Alto, Bedrooms, Neighborhoo...   \n",
            "961   (Bedrooms)  (Bathrooms, Baixo, Alto, Médio, Neighborhood_S...   \n",
            "\n",
            "     antecedent support  consequent support   support  confidence  lift  \\\n",
            "0              0.333333            0.333333  0.333333    1.000000   3.0   \n",
            "1              0.333333            0.333333  0.333333    1.000000   3.0   \n",
            "2              0.333333            0.333333  0.333333    1.000000   3.0   \n",
            "3              0.333333            0.333333  0.333333    1.000000   3.0   \n",
            "4              0.333333            0.333333  0.333333    1.000000   3.0   \n",
            "..                  ...                 ...       ...         ...   ...   \n",
            "957            0.333333            0.111111  0.111111    0.333333   3.0   \n",
            "958            0.333333            0.111111  0.111111    0.333333   3.0   \n",
            "959            0.333333            0.111111  0.111111    0.333333   3.0   \n",
            "960            0.333333            0.111111  0.111111    0.333333   3.0   \n",
            "961            0.333333            0.111111  0.111111    0.333333   3.0   \n",
            "\n",
            "     representativity  leverage  conviction  zhangs_metric   jaccard  \\\n",
            "0                 1.0  0.222222         inf            1.0  1.000000   \n",
            "1                 1.0  0.222222         inf            1.0  1.000000   \n",
            "2                 1.0  0.222222         inf            1.0  1.000000   \n",
            "3                 1.0  0.222222         inf            1.0  1.000000   \n",
            "4                 1.0  0.222222         inf            1.0  1.000000   \n",
            "..                ...       ...         ...            ...       ...   \n",
            "957               1.0  0.074074    1.333333            1.0  0.333333   \n",
            "958               1.0  0.074074    1.333333            1.0  0.333333   \n",
            "959               1.0  0.074074    1.333333            1.0  0.333333   \n",
            "960               1.0  0.074074    1.333333            1.0  0.333333   \n",
            "961               1.0  0.074074    1.333333            1.0  0.333333   \n",
            "\n",
            "     certainty  kulczynski  \n",
            "0         1.00    1.000000  \n",
            "1         1.00    1.000000  \n",
            "2         1.00    1.000000  \n",
            "3         1.00    1.000000  \n",
            "4         1.00    1.000000  \n",
            "..         ...         ...  \n",
            "957       0.25    0.666667  \n",
            "958       0.25    0.666667  \n",
            "959       0.25    0.666667  \n",
            "960       0.25    0.666667  \n",
            "961       0.25    0.666667  \n",
            "\n",
            "[962 rows x 14 columns]\n"
          ]
        }
      ]
    },
    {
      "cell_type": "markdown",
      "source": [
        "Ao analisar as regras de associação geradas, podemos observar algumas informações relevantes sobre as relações entre os atributos da tabela. As regras exibem a combinação de antecedentes e consequentes, além das métricas de avaliação, como suporte, confiança e lift.\n",
        "\n",
        "###**Antecedentes e Consequentes:**\n",
        "\n",
        "Muitas das regras destacam a relação entre o número de quartos (Bedrooms) e o número de banheiros (Bathrooms), com alta frequência nas combinações entre esses dois atributos.\n",
        "A categoria de preço (PriceCategory), como **Alto** e **Baixo**, também aparece frequentemente como consequente, o que sugere que as características das propriedades estão fortemente associadas à sua classificação de preço.\n",
        "##**Métricas de Avaliação:**\n",
        "\n",
        "###**Suporte:**\n",
        "O suporte de 0.33 em várias regras indica que as combinações de atributos são frequentes e significativas, refletindo a alta incidência de propriedades com certos números de quartos e banheiros em diferentes faixas de preço. A confiança próxima de 1.0 mostra uma forte correlação entre os atributos, enquanto o lift de 3.0 sugere que as associações são significativamente mais frequentes do que o esperado por acaso.\n",
        "\n",
        "##**Outras Métricas:**\n",
        "\n",
        "###**Leverage:**\n",
        "O leverage significativo em várias regras indica que as combinações encontradas estão distantes do esperado por acaso, evidenciando padrões fortes. A convicção infinita e o alto valor do Zhang's Metric reforçam a confiabilidade dessas combinações, sugerindo que são altamente representativas e consistentes.\n",
        "\n",
        "###**Representatividade e Certainty:**\n",
        "\n",
        "A representatividade próxima de 1.0 nas regras indica que as combinações de atributos são altamente representativas do conjunto de dados, validando as regras. No entanto, a certeza mais baixa (0.25) em algumas regras sugere que certas associações podem ser menos confiáveis em contextos específicos."
      ],
      "metadata": {
        "id": "kaVM2LbUU2Sq"
      }
    }
  ]
}